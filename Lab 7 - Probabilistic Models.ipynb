{
 "cells": [
  {
   "cell_type": "code",
   "execution_count": 2,
   "id": "3c892250",
   "metadata": {},
   "outputs": [],
   "source": [
    "# Import necessary libraries\n",
    "from collections import defaultdict\n",
    "\n",
    "# Define the documents\n",
    "documents = [\n",
    "    \"I love cats . cats are cute pets.\",\n",
    "    \"Dogs are loyal. Dogs are good friends.\",\n",
    "    \"Birds can sing. Birds fly in the sky.\",\n",
    "    \"Fish live underwater. Fish come in many colors.\"\n",
    "]"
   ]
  },
  {
   "cell_type": "markdown",
   "id": "2a685610",
   "metadata": {},
   "source": [
    "In this section, we define and create unigram models for the documents. Unigrams are single words or terms, and a unigram model represents the probability distribution of individual terms in the document. The unigram_model function counts the occurrences of each term in a document, calculates the probabilities, and returns the unigram model. We create unigram models for all documents in the collection."
   ]
  },
  {
   "cell_type": "markdown",
   "id": "a8d0e623",
   "metadata": {},
   "source": [
    "# Create Unigram Models"
   ]
  },
  {
   "cell_type": "code",
   "execution_count": 3,
   "id": "2d589155",
   "metadata": {},
   "outputs": [],
   "source": [
    "def unigram_model(document):\n",
    "    words = document.split()\n",
    "    total_words = len(words)\n",
    "    unigram_counts = defaultdict(int)\n",
    "    for word in words:\n",
    "        unigram_counts[word] += 1\n",
    "    unigram_model = {word: count / total_words for word, count in unigram_counts.items()}\n",
    "    return unigram_model"
   ]
  },
  {
   "cell_type": "code",
   "execution_count": 4,
   "id": "9c571b22",
   "metadata": {},
   "outputs": [],
   "source": [
    "# Create unigram models for all documents\n",
    "unigram_models = [unigram_model(doc) for doc in documents]"
   ]
  },
  {
   "cell_type": "code",
   "execution_count": 5,
   "id": "a16bdec3",
   "metadata": {},
   "outputs": [
    {
     "data": {
      "text/plain": [
       "[{'I': 0.125,\n",
       "  'love': 0.125,\n",
       "  'cats': 0.25,\n",
       "  '.': 0.125,\n",
       "  'are': 0.125,\n",
       "  'cute': 0.125,\n",
       "  'pets.': 0.125},\n",
       " {'Dogs': 0.2857142857142857,\n",
       "  'are': 0.2857142857142857,\n",
       "  'loyal.': 0.14285714285714285,\n",
       "  'good': 0.14285714285714285,\n",
       "  'friends.': 0.14285714285714285},\n",
       " {'Birds': 0.25,\n",
       "  'can': 0.125,\n",
       "  'sing.': 0.125,\n",
       "  'fly': 0.125,\n",
       "  'in': 0.125,\n",
       "  'the': 0.125,\n",
       "  'sky.': 0.125},\n",
       " {'Fish': 0.25,\n",
       "  'live': 0.125,\n",
       "  'underwater.': 0.125,\n",
       "  'come': 0.125,\n",
       "  'in': 0.125,\n",
       "  'many': 0.125,\n",
       "  'colors.': 0.125}]"
      ]
     },
     "execution_count": 5,
     "metadata": {},
     "output_type": "execute_result"
    }
   ],
   "source": [
    "unigram_models"
   ]
  },
  {
   "cell_type": "code",
   "execution_count": 6,
   "id": "faa6e564",
   "metadata": {},
   "outputs": [],
   "source": [
    "#we have a query \n",
    "query = \"I like cats and dogs\""
   ]
  },
  {
   "cell_type": "code",
   "execution_count": 7,
   "id": "85f84e9b",
   "metadata": {},
   "outputs": [],
   "source": [
    "def calculate_query_probability(query, document_model):\n",
    "    # Tokenize the query into words\n",
    "    query_words = query.split()\n",
    "    \n",
    "    # Initialize the probability for the entire query\n",
    "    query_probability = 1.0\n",
    "    \n",
    "    # Calculate the probability for each term in the query\n",
    "    for word in query_words:\n",
    "        if word in document_model:\n",
    "            query_probability *= document_model[word]\n",
    "        else:\n",
    "            query_probability = 0.0\n",
    "            break\n",
    "    \n",
    "    return query_probability"
   ]
  },
  {
   "cell_type": "code",
   "execution_count": 20,
   "id": "25934062",
   "metadata": {},
   "outputs": [],
   "source": [
    "query_probability = calculate_query_probability(query, unigram_models)"
   ]
  },
  {
   "cell_type": "code",
   "execution_count": 21,
   "id": "e57e1768",
   "metadata": {},
   "outputs": [
    {
     "data": {
      "text/plain": [
       "0.0"
      ]
     },
     "execution_count": 21,
     "metadata": {},
     "output_type": "execute_result"
    }
   ],
   "source": [
    "query_probability"
   ]
  },
  {
   "cell_type": "markdown",
   "id": "f2641c2c",
   "metadata": {},
   "source": [
    "## Your task"
   ]
  },
  {
   "cell_type": "code",
   "execution_count": 1,
   "id": "771db8aa",
   "metadata": {},
   "outputs": [],
   "source": [
    "# Use Laplace Smoothing for this problem\n",
    "\n",
    "# https://www.exploredatabase.com/2020/10/explain-add-1-laplace-smoothing-with-example.html\n",
    "def calculate_query_probabilities(query, document_models):\n",
    "    query_probabilities = []\n",
    "    \n",
    "    for document_model in document_models:\n",
    "        query_probability = calculate_query_probability(query, document_model)\n",
    "        query_probabilities.append(query_probability)\n",
    "    \n",
    "    return query_probabilities"
   ]
  },
  {
   "cell_type": "code",
   "execution_count": 10,
   "id": "14dbdd15-096d-4cc9-b5f3-dd0f57ad4d4d",
   "metadata": {},
   "outputs": [
    {
     "name": "stdout",
     "output_type": "stream",
     "text": [
      "Document 1 Query Probability: Ellipsis\n"
     ]
    }
   ],
   "source": [
    "document_models = create_document_models(documents)\n",
    "\n",
    "query_probabilities = calculate_query_probabilities(query, document_models)\n",
    "\n",
    "for i, probability in enumerate(query_probabilities):\n",
    "    print(\"Document\", i+1, \"Query Probability:\", probability)"
   ]
  },
  {
   "cell_type": "code",
   "execution_count": 9,
   "id": "a7f2705d",
   "metadata": {},
   "outputs": [
    {
     "name": "stdout",
     "output_type": "stream",
     "text": [
      "Bigram: i love, Probability: 1.0\n",
      "Bigram: love cats, Probability: 1.0\n",
      "Bigram: cats ., Probability: 0.5\n",
      "Bigram: cats are, Probability: 0.5\n",
      "Bigram: . cats, Probability: 0.25\n",
      "Bigram: . dogs, Probability: 0.25\n",
      "Bigram: . birds, Probability: 0.25\n",
      "Bigram: . fish, Probability: 0.25\n",
      "Bigram: are cute, Probability: 0.3333333333333333\n",
      "Bigram: are loyal, Probability: 0.3333333333333333\n",
      "Bigram: are good, Probability: 0.3333333333333333\n",
      "Bigram: cute pets, Probability: 1.0\n",
      "Bigram: pets ., Probability: 1.0\n",
      "Bigram: dogs are, Probability: 1.0\n",
      "Bigram: loyal ., Probability: 1.0\n",
      "Bigram: good friends, Probability: 1.0\n",
      "Bigram: friends ., Probability: 1.0\n",
      "Bigram: birds can, Probability: 0.5\n",
      "Bigram: birds fly, Probability: 0.5\n",
      "Bigram: can sing, Probability: 1.0\n",
      "Bigram: sing ., Probability: 1.0\n",
      "Bigram: fly in, Probability: 1.0\n",
      "Bigram: in the, Probability: 0.5\n",
      "Bigram: in many, Probability: 0.5\n",
      "Bigram: the sky, Probability: 1.0\n",
      "Bigram: sky ., Probability: 1.0\n",
      "Bigram: fish live, Probability: 0.5\n",
      "Bigram: fish come, Probability: 0.5\n",
      "Bigram: live underwater, Probability: 1.0\n",
      "Bigram: underwater ., Probability: 1.0\n",
      "Bigram: come in, Probability: 1.0\n",
      "Bigram: many colors, Probability: 1.0\n",
      "Bigram: colors ., Probability: 1.0\n"
     ]
    }
   ],
   "source": [
    "# Define the documents\n",
    "documents = [\n",
    "    \"I love cats . cats are cute pets.\",\n",
    "    \"Dogs are loyal. Dogs are good friends.\",\n",
    "    \"Birds can sing. Birds fly in the sky.\",\n",
    "    \"Fish live underwater. Fish come in many colors.\"\n",
    "]\n",
    "\n",
    "def preprocess(document):\n",
    "    # Preprocess the document by tokenizing and removing punctuation\n",
    "    # You can customize this function based on your requirements\n",
    "    document = document.lower()\n",
    "    document = document.replace(\".\", \" .\")\n",
    "    tokens = document.split()\n",
    "    return tokens\n",
    "\n",
    "def create_bigram_model(documents, k=1):\n",
    "    # Step 2: Count the bigram occurrences\n",
    "    bigram_counts = defaultdict(lambda: defaultdict(int))\n",
    "    for document in documents:\n",
    "        tokens = preprocess(document)\n",
    "        for i in range(len(tokens) - 1):\n",
    "            current_word = tokens[i]\n",
    "            next_word = tokens[i + 1]\n",
    "            bigram_counts[current_word][next_word] += 1\n",
    "\n",
    "    # Step 3: Compute the bigram probabilities\n",
    "    bigram_probabilities = defaultdict(lambda: defaultdict(float))\n",
    "    for current_word, next_words in bigram_counts.items():\n",
    "        total_count = sum(next_words.values())\n",
    "        for next_word, count in next_words.items():\n",
    "            bigram_probabilities[current_word][next_word] = (count + k) / (total_count + k * len(next_words))\n",
    "\n",
    "    return bigram_probabilities\n",
    "\n",
    "# Example usage\n",
    "bigram_model = create_bigram_model(documents, k=0.5)\n",
    "\n",
    "# Print the bigram probabilities\n",
    "for current_word, next_words in bigram_model.items():\n",
    "    for next_word, probability in next_words.items():\n",
    "        print(f\"Bigram: {current_word} {next_word}, Probability: {probability}\")"
   ]
  },
  {
   "cell_type": "code",
   "execution_count": null,
   "id": "58200002-9a56-4220-a269-4eeae3ffdde4",
   "metadata": {},
   "outputs": [],
   "source": []
  }
 ],
 "metadata": {
  "kernelspec": {
   "display_name": "Python 3 (ipykernel)",
   "language": "python",
   "name": "python3"
  },
  "language_info": {
   "codemirror_mode": {
    "name": "ipython",
    "version": 3
   },
   "file_extension": ".py",
   "mimetype": "text/x-python",
   "name": "python",
   "nbconvert_exporter": "python",
   "pygments_lexer": "ipython3",
   "version": "3.11.5"
  }
 },
 "nbformat": 4,
 "nbformat_minor": 5
}
